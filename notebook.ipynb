{
 "cells": [
  {
   "cell_type": "code",
   "execution_count": 1,
   "id": "4fbf3ceb",
   "metadata": {},
   "outputs": [],
   "source": [
    "import pandas as pd"
   ]
  },
  {
   "cell_type": "code",
   "execution_count": 2,
   "id": "03dc3966",
   "metadata": {},
   "outputs": [],
   "source": [
    "initial_data = pd.read_csv('./data/vehiclePositions.csv')"
   ]
  },
  {
   "cell_type": "code",
   "execution_count": 3,
   "id": "8a8a9c1b",
   "metadata": {},
   "outputs": [
    {
     "data": {
      "text/plain": [
       "Index(['Timestamp', 'LineId', 'DirectionId', 'DistanceFromPoint', 'PointId'], dtype='object')"
      ]
     },
     "execution_count": 3,
     "metadata": {},
     "output_type": "execute_result"
    }
   ],
   "source": [
    "initial_data.columns\n",
    "#Timestamp - moment when the data was captured\n",
    "#LineId - number of the line\n",
    "#DirectionId - Destination where vehicle is going\n",
    "#DistanceFromPoint - distance from the pointId\n",
    "#PointID - last stop the vehicle traveressed"
   ]
  },
  {
   "cell_type": "code",
   "execution_count": 4,
   "id": "f1734f5f",
   "metadata": {},
   "outputs": [
    {
     "data": {
      "text/plain": [
       "<bound method NDFrame.describe of               Timestamp  LineId  DirectionId  DistanceFromPoint  PointId\n",
       "0         1630914886924       1         8161                  1     8012\n",
       "1         1630914886924       1         8162                  0     8142\n",
       "2         1630914886924       1         8162                  0     8282\n",
       "3         1630914886924       1         8731                  0     8111\n",
       "4         1630914886924       1         8162                  1     8062\n",
       "...                 ...     ...          ...                ...      ...\n",
       "19421878  1632241153806      97         9972                 89     6078\n",
       "19421879  1632241153806      98         1951                  0     2384\n",
       "19421880  1632241153806      98         2382                  0     1951\n",
       "19421881  1632241153806      98         5058                122     9649\n",
       "19421882  1632241153806      98         2382                212     5920\n",
       "\n",
       "[19421883 rows x 5 columns]>"
      ]
     },
     "execution_count": 4,
     "metadata": {},
     "output_type": "execute_result"
    }
   ],
   "source": [
    "initial_data.describe"
   ]
  },
  {
   "cell_type": "code",
   "execution_count": null,
   "id": "2ba7f084",
   "metadata": {},
   "outputs": [],
   "source": []
  }
 ],
 "metadata": {
  "kernelspec": {
   "display_name": "Python 3 (ipykernel)",
   "language": "python",
   "name": "python3"
  },
  "language_info": {
   "codemirror_mode": {
    "name": "ipython",
    "version": 3
   },
   "file_extension": ".py",
   "mimetype": "text/x-python",
   "name": "python",
   "nbconvert_exporter": "python",
   "pygments_lexer": "ipython3",
   "version": "3.8.10"
  }
 },
 "nbformat": 4,
 "nbformat_minor": 5
}
